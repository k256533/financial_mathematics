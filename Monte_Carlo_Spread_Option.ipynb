{
 "cells": [
  {
   "cell_type": "markdown",
   "id": "0baeacd4",
   "metadata": {},
   "source": [
    "# Monte Carlo Pricing of a Spread Option and Its Greeks"
   ]
  },
  {
   "cell_type": "code",
   "execution_count": 1,
   "id": "ec0fbf27",
   "metadata": {},
   "outputs": [],
   "source": [
    "import numpy as np\n",
    "from scipy.stats import norm\n",
    "from tqdm import tqdm\n",
    "import matplotlib.pyplot as plt\n",
    "np.random.seed(0)"
   ]
  },
  {
   "cell_type": "code",
   "execution_count": 2,
   "id": "c488e2fd",
   "metadata": {},
   "outputs": [],
   "source": [
    "S1 = 100\n",
    "S2 = 90\n",
    "K = 8\n",
    "T = 1\n",
    "r = 0.05\n",
    "sigma1 = 0.2\n",
    "sigma2 = 0.3\n",
    "rho = 0.5\n",
    "N = 252 \n",
    "num_simulations = 100000\n",
    "epsilon = 30"
   ]
  },
  {
   "cell_type": "code",
   "execution_count": 3,
   "id": "837400a2",
   "metadata": {},
   "outputs": [
    {
     "name": "stdout",
     "output_type": "stream",
     "text": [
      "Price: 10.9578, Delta S1: 0.5573, Gamma S1: 0.0183, Delta S2: -0.5001, Gamma S2: 0.0216, Theta: -0.0353\n"
     ]
    }
   ],
   "source": [
    "def monte_carlo_spread_option_greeks(S1, S2, K, T, r, sigma1, sigma2, rho, N, num_simulations, epsilon):\n",
    "    dt = T / N\n",
    "    discount_factor = np.exp(-r * T) \n",
    "\n",
    "    F1 = S1 * np.exp(r * T)\n",
    "    F2 = S2 * np.exp(r * T)\n",
    "    drift1 = np.log(F1 / S1) / T\n",
    "    drift2 = np.log(F2 / S2) / T\n",
    "\n",
    "    def generate_paths(S1_init, S2_init):\n",
    "        paths1 = np.zeros((num_simulations, N + 1))\n",
    "        paths2 = np.zeros((num_simulations, N + 1))\n",
    "        paths1[:, 0] = S1_init\n",
    "        paths2[:, 0] = S2_init\n",
    "\n",
    "        for i in range(1, N + 1):\n",
    "            dW1 = np.random.normal(0, np.sqrt(dt), num_simulations)\n",
    "            dW2 = rho * dW1 + np.sqrt(1 - rho**2) * np.random.normal(0, np.sqrt(dt), num_simulations)\n",
    "\n",
    "            paths1[:, i] = paths1[:, i - 1] * np.exp((drift1 - 0.5 * sigma1**2) * dt + sigma1 * dW1)\n",
    "            paths2[:, i] = paths2[:, i - 1] * np.exp((drift2 - 0.5 * sigma2**2) * dt + sigma2 * dW2)\n",
    "\n",
    "        return paths1[:, -1], paths2[:, -1]\n",
    "\n",
    "    S1_paths, S2_paths = generate_paths(S1, S2)\n",
    "    payoffs = np.maximum(S1_paths - S2_paths - K, 0)\n",
    "    price = np.mean(payoffs) * discount_factor\n",
    "\n",
    "    S1_up_paths, S2_paths = generate_paths(S1 + epsilon, S2)\n",
    "    S1_down_paths, _ = generate_paths(S1 - epsilon, S2)\n",
    "    _, S2_up_paths = generate_paths(S1, S2 + epsilon)\n",
    "    _, S2_down_paths = generate_paths(S1, S2 - epsilon)\n",
    "\n",
    "    payoffs_up_S1 = np.maximum(S1_up_paths - S2_paths - K, 0)\n",
    "    payoffs_down_S1 = np.maximum(S1_down_paths - S2_paths - K, 0)\n",
    "    payoffs_up_S2 = np.maximum(S1_paths - S2_up_paths - K, 0)\n",
    "    payoffs_down_S2 = np.maximum(S1_paths - S2_down_paths - K, 0)\n",
    "\n",
    "    price_up_S1 = np.mean(payoffs_up_S1) \n",
    "    price_down_S1 = np.mean(payoffs_down_S1) \n",
    "    price_up_S2 = np.mean(payoffs_up_S2) \n",
    "    price_down_S2 = np.mean(payoffs_down_S2)\n",
    "\n",
    "    delta_S1 = (price_up_S1 - price_down_S1) / (2 * epsilon)\n",
    "    delta_S2 = (price_up_S2 - price_down_S2) / (2 * epsilon)\n",
    "    gamma_S1 = (price_up_S1 - 2 * price + price_down_S1) / (epsilon**2)\n",
    "    gamma_S2 = (price_up_S2 - 2 * price + price_down_S2) / (epsilon**2)\n",
    "\n",
    "    T_short = T - dt\n",
    "    S1_paths_T, S2_paths_T = generate_paths(S1, S2)\n",
    "    payoffs_T = np.maximum(S1_paths_T - S2_paths_T - K, 0)\n",
    "    price_T = np.mean(payoffs_T) * np.exp(-r * T_short)\n",
    "    theta = (price-price_T) / (dt)\n",
    "\n",
    "    return price, delta_S1, gamma_S1, delta_S2, gamma_S2, theta\n",
    "\n",
    "\n",
    "price, delta_S1, gamma_S1, delta_S2, gamma_S2, theta = monte_carlo_spread_option_greeks(S1, S2, K, T, r, sigma1, sigma2, rho, N, num_simulations, epsilon)\n",
    "print(f\"Price: {price:.4f}, Delta S1: {delta_S1:.4f}, Gamma S1: {gamma_S1:.4f}, Delta S2: {delta_S2:.4f}, Gamma S2: {gamma_S2:.4f}, Theta: {theta:.4f}\")\n"
   ]
  },
  {
   "cell_type": "markdown",
   "id": "5aa3d924",
   "metadata": {},
   "source": [
    "# Plotting Price Changes with Different Correlations"
   ]
  },
  {
   "cell_type": "code",
   "execution_count": 4,
   "id": "e66154bf",
   "metadata": {},
   "outputs": [
    {
     "data": {
      "image/png": "[encoded data removed]",
      "text/plain": [
       "<Figure size 1000x600 with 1 Axes>"
      ]
     },
     "metadata": {},
     "output_type": "display_data"
    }
   ],
   "source": [
    "def simulate_spread_option_price(S1, S2, K, T, r, sigma1, sigma2, rho, N, num_simulations):\n",
    "    dt = T / N\n",
    "    paths1 = np.zeros(num_simulations)\n",
    "    paths2 = np.zeros(num_simulations)\n",
    "    paths1[:] = S1\n",
    "    paths2[:] = S2\n",
    "\n",
    "    for _ in range(N):\n",
    "        dW1 = np.random.normal(0, np.sqrt(dt), num_simulations)\n",
    "        dW2 = rho * dW1 + np.sqrt(1 - rho**2) * np.random.normal(0, np.sqrt(dt), num_simulations)\n",
    "        paths1 *= np.exp((r - 0.5 * sigma1**2) * dt + sigma1 * dW1)\n",
    "        paths2 *= np.exp((r - 0.5 * sigma2**2) * dt + sigma2 * dW2)\n",
    "\n",
    "    payoffs = np.maximum(paths1 - paths2 - K, 0)\n",
    "    price = np.mean(payoffs) * np.exp(-r * T)\n",
    "    return price\n",
    "\n",
    "S1 = 100\n",
    "S2 = 90\n",
    "K = 8\n",
    "T = 1\n",
    "r = 0.05\n",
    "sigma1 = 0.2\n",
    "sigma2 = 0.3\n",
    "N = 1000\n",
    "num_simulations = 10000\n",
    "\n",
    "rhos = np.linspace(-1, 1, 51)\n",
    "prices = []\n",
    "\n",
    "for rho in rhos:\n",
    "    price = simulate_spread_option_price(S1, S2, K, T, r, sigma1, sigma2, rho, N, num_simulations)\n",
    "    prices.append(price)\n",
    "\n",
    "plt.figure(figsize=(10, 6))\n",
    "plt.scatter(rhos, prices, marker='.')\n",
    "plt.title('Spread Option Price vs. Correlation')\n",
    "plt.xlabel('Correlation ($\\\\rho$)')\n",
    "plt.ylabel('Option Price')\n",
    "plt.grid(True)\n",
    "plt.show()\n"
   ]
  },
  {
   "cell_type": "markdown",
   "id": "fe5f4e04",
   "metadata": {},
   "source": [
    "# Intuitive Explanation:\n",
    "\n",
    "The graph exhibits a downward trend, indicating that as the correlation between the two underlying assets increases, the price of the spread option decreases.\n",
    "\n",
    "\n",
    "1. **Effect of Correlation**:\n",
    "   - **High Positive Correlation**: When the correlation is close to +1, the two assets tend to move together very closely. This movement reduces the volatility of the difference between the two asset prices (i.e., the spread), making it less likely that the spread will exceed the strike price $K$ by a significant margin. Thus, the option's value (which depends on the spread being larger than $K$) is lower.\n",
    "   - **Low or Negative Correlation**: When the correlation is low or negative, the assets are less synchronized in their movements, increasing the volatility of the spread. This increased volatility enhances the probability that the spread will deviate significantly from zero, either above or below, thereby increasing the chances that the spread will exceed the strike price $K$ and hence increasing the value of the option.\n",
    "\n",
    "2. **Interpreting the Graph**:\n",
    "   - The graph shows that as correlation increases from -1 to 1, the option price decreases, reflecting the reduced uncertainty (or risk) in the spread exceeding the strike price when the assets move more in tandem.\n",
    "   - At lower correlations, especially negative correlations, the spread's uncertainty is higher, enhancing the option's value due to the greater probability of significant deviations between the two asset prices."
   ]
  },
  {
   "cell_type": "code",
   "execution_count": null,
   "id": "f9a7f226-6cc1-4863-baf1-82ffe7af41ff",
   "metadata": {},
   "outputs": [],
   "source": []
  }
 ],
 "metadata": {
  "kernelspec": {
   "display_name": "Python 3 (ipykernel)",
   "language": "python",
   "name": "python3"
  },
  "language_info": {
   "codemirror_mode": {
    "name": "ipython",
    "version": 3
   },
   "file_extension": ".py",
   "mimetype": "text/x-python",
   "name": "python",
   "nbconvert_exporter": "python",
   "pygments_lexer": "ipython3",
   "version": "3.10.9"
  }
 },
 "nbformat": 4,
 "nbformat_minor": 5
}
