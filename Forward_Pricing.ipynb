{
 "cells": [
  {
   "cell_type": "markdown",
   "id": "f9ddd7ea",
   "metadata": {},
   "source": [
    "# Crank Nicolson Forward Pricing and Greeks "
   ]
  },
  {
   "cell_type": "code",
   "execution_count": 8,
   "id": "3ba94eec-aae9-4b39-a98e-297dd3d39b9e",
   "metadata": {},
   "outputs": [],
   "source": [
    "import numpy as np\n",
    "from tqdm import tqdm\n",
    "from scipy.stats import norm\n",
    "from scipy.linalg import solve_banded"
   ]
  },
  {
   "cell_type": "markdown",
   "id": "9ca28467",
   "metadata": {},
   "source": [
    "### Crank-Nicolson Method Setup\n",
    "1. **Stock and Time Grids**: The stock prices and times are divided into discrete steps using $\\Delta S$ and $\\Delta t$ respectively.\n",
    "\n",
    "   $$ \\Delta S = \\frac{S_{\\text{max}}}{N}, \\quad \\Delta t = \\frac{T}{M} $$\n",
    "\n",
    "2. **Payoff Matrix Initialization**:\n",
    "   - Initialize a matrix $V$ to store the forward contract values over time.\n",
    "   - The terminal values (at maturity) are calculated as the intrinsic value of the forward contract:\n",
    "\n",
    "   $$ V[S_i, T] = S_i - K, \\quad \\forall S_i \\in [0, S_{\\text{max}}] $$\n",
    "\n",
    "### Coefficients Calculation\n",
    "The Crank-Nicolson method is a combination of explicit and implicit finite difference schemes. The coefficients for each stock price step are:\n",
    "\n",
    "- **Lower Diagonal (a):**\n",
    "\n",
    "   $$ a_i = -0.25 \\Delta t \\left( \\sigma^2 i^2 - r i \\right) $$\n",
    "\n",
    "- **Main Diagonal (b):**\n",
    "\n",
    "   $$ b_i = 1 + 0.5 \\Delta t \\left( \\sigma^2 i^2 + r \\right) $$\n",
    "\n",
    "- **Upper Diagonal (c):**\n",
    "\n",
    "   $$ c_i = -0.25 \\Delta t \\left( \\sigma^2 i^2 + r i \\right) $$\n",
    "\n",
    "### Time-Stepping Solution\n",
    "- Start from maturity and move backward in time.\n",
    "- For each time step $t_j$, calculate a right-hand side vector $d$ and use a tridiagonal solver to update $V$ values at that time step.\n",
    "\n",
    "### Boundary Conditions\n",
    "- At $S = 0$, the value is $0$.\n",
    "- At $S = S_{\\text{max}}$, the value approximates the intrinsic value:\n",
    "\n",
    "  $$ V[S_{\\text{max}}, t_j] = S_{\\text{max}} - K e^{-r(T - t_j)} $$\n",
    "\n",
    "### Greeks Calculation\n",
    "The Greeks are calculated using finite differences:\n",
    "\n",
    "- **Delta**: \n",
    "\n",
    "   $$ \\Delta = \\frac{V[S_{i+1}, 0] - V[S_{i-1}, 0]}{2 \\Delta S} $$\n",
    "\n",
    "- **Gamma**: \n",
    "\n",
    "   $$ \\Gamma = \\frac{V[S_{i+1}, 0] - 2 V[S_i, 0] + V[S_{i-1}, 0]}{\\Delta S^2} $$\n",
    "\n",
    "- **Theta**: \n",
    "\n",
    "   $$ \\Theta = \\frac{V[S_i, 1] - V[S_i, 0]}{\\Delta t \\cdot 365} $$\n"
   ]
  },
  {
   "cell_type": "code",
   "execution_count": 9,
   "id": "db3ab074",
   "metadata": {},
   "outputs": [],
   "source": [
    "S_max = 600\n",
    "K = 100\n",
    "T = 1.0\n",
    "r = 0.05\n",
    "sigma = 0.2\n",
    "N = 100000\n",
    "M = 500\n",
    "S0 = 100"
   ]
  },
  {
   "cell_type": "code",
   "execution_count": 10,
   "id": "4970777f",
   "metadata": {},
   "outputs": [
    {
     "name": "stdout",
     "output_type": "stream",
     "text": [
      "Forward Price at inception: 4.879057548515569\n",
      "Delta at inception: 0.99999999950288\n",
      "Gamma at inception: -4.687608326195105e-10\n",
      "Theta at inception: -4.756384932282476\n"
     ]
    }
   ],
   "source": [
    "def crank_nicolson_forward(S_max, K, T, r, sigma, N, M):\n",
    "    Delta_S = S_max / N\n",
    "    Delta_t = T / M\n",
    "\n",
    "    S = np.linspace(0, S_max, N + 1)\n",
    "    V = np.zeros((N + 1, M + 1))\n",
    "\n",
    "    V[:, M] = S - K\n",
    "\n",
    "    a = np.zeros(N + 1)\n",
    "    b = np.zeros(N + 1)\n",
    "    c = np.zeros(N + 1)\n",
    "    for i in range(1, N):\n",
    "        a[i] = -0.25 * Delta_t * (sigma**2 * i**2 - r * i)\n",
    "        b[i] = 1 + 0.5 * Delta_t * (sigma**2 * i**2 + r)\n",
    "        c[i] = -0.25 * Delta_t * (sigma**2 * i**2 + r * i)\n",
    "\n",
    "    for j in range(M - 1, -1, -1):\n",
    "        i = np.arange(1, N)\n",
    "        d = (0.25 * Delta_t * (sigma**2 * i**2 - r * i) * V[i - 1, j + 1] +\n",
    "             (1 - 0.5 * Delta_t * (sigma**2 * i**2 + r)) * V[i, j + 1] +\n",
    "             0.25 * Delta_t * (sigma**2 * i**2 + r * i) * V[i + 1, j + 1])\n",
    "\n",
    "        d[0] -= a[1] * V[0, j + 1]  \n",
    "        d[-1] -= c[N - 1] * V[N, j + 1]\n",
    "\n",
    "        ab = np.vstack((np.hstack([0, c[1:N - 1]]), b[1:N], np.hstack([a[2:N], 0])))\n",
    "        V[1:N, j] = solve_banded((1, 1), ab, d)\n",
    "\n",
    "        V[0, j] = 0\n",
    "        V[N, j] = S_max - K * np.exp(-r * (T - j * Delta_t))\n",
    "\n",
    "    index_at_initial = np.searchsorted(S, K)\n",
    "    price_at_inception = V[index_at_initial, 0]\n",
    "    delta_at_inception = (V[index_at_initial + 1, 0] - V[index_at_initial - 1, 0]) / (2 * Delta_S)\n",
    "    gamma_at_inception = (V[index_at_initial + 1, 0] - 2 * V[index_at_initial, 0] + V[index_at_initial - 1, 0]) / (Delta_S ** 2)\n",
    "    theta_at_inception = (V[index_at_initial, 1] - V[index_at_initial, 0]) / (Delta_t)\n",
    "\n",
    "    return price_at_inception, delta_at_inception, gamma_at_inception, theta_at_inception\n",
    "\n",
    "f_price, f_delta, f_gamma, f_theta = crank_nicolson_forward(S_max, K, T, r, sigma, N, M)\n",
    "print(\"Forward Price at inception:\", f_price)\n",
    "print(\"Delta at inception:\", f_delta)\n",
    "print(\"Gamma at inception:\", f_gamma)\n",
    "print(\"Theta at inception:\", f_theta)\n"
   ]
  },
  {
   "cell_type": "markdown",
   "id": "cd1a5804",
   "metadata": {},
   "source": [
    "# Monte Carlo Approximation of Forward Price, Delta, Gamma, and Theta Under Risk Neutral Measure"
   ]
  },
  {
   "cell_type": "markdown",
   "id": "926da63c",
   "metadata": {},
   "source": [
    "## Monte Carlo Simulation for Greeks Calculation\n",
    "### Monte Carlo Method\n",
    "The Monte Carlo method simulates multiple random paths to estimate the expected value of the forward price at maturity and calculate its Greeks. Each path simulates the future behavior of the underlying asset using the Geometric Brownian Motion model.\n",
    "\n",
    "### Geometric Brownian Motion Model\n",
    "- The GBM model simulates the price path $S_t$ over time $t$:\n",
    "$$\n",
    "    S_{t+1} = S_t \\cdot e^{(r - 0.5 \\sigma^2) \\Delta t + \\sigma \\sqrt{\\Delta t} Z},\n",
    "$$\n",
    "where:\n",
    "- $\\sigma$ is the volatility of the underlying asset,\n",
    "- $\\Delta t$ is the time step,\n",
    "- $Z$ is a standard normal random variable.\n",
    "\n",
    "### Monte Carlo Implementation Steps\n",
    "1. **Initialize Parameters**: Define the initial price, interest rate, volatility, and maturity.\n",
    "2. **Generate Paths**: Use GBM to simulate multiple price paths.\n",
    "3. **Forward Price**: Estimate the forward price as the average of the final prices across paths.\n",
    "4. **Greeks**:\n",
    "   - **Delta**: Perturb the initial price and calculate the difference between the perturbed and base forward prices.\n",
    "   - **Gamma**: Perturb the initial price upwards and downwards, then calculate the rate of change of Delta.\n",
    "   - **Theta**: Reduce the time to maturity and recalculate the forward price to estimate its sensitivity.\n"
   ]
  },
  {
   "cell_type": "code",
   "execution_count": 11,
   "id": "2540f052",
   "metadata": {},
   "outputs": [
    {
     "name": "stdout",
     "output_type": "stream",
     "text": [
      "Forward Contract Price: 4.882067861\n",
      "Delta: 1.000050103\n",
      "Gamma: -0.000000266\n",
      "Theta: -4.758080909\n"
     ]
    }
   ],
   "source": [
    "N = 10000000\n",
    "def monte_carlo_forward(S0, K, T, r, sigma, N, epsilon=1e-4, delta_T=1e-4):\n",
    "    np.random.seed(0)\n",
    "    Z = np.random.standard_normal(N)\n",
    "    ST = S0 * np.exp((r - 0.5 * sigma ** 2) * T + sigma * np.sqrt(T) * Z)\n",
    "\n",
    "    payoffs = ST - K\n",
    "    V0 = np.exp(-r * T) * np.mean(payoffs)\n",
    "    S_up = S0 + epsilon\n",
    "    S_down = S0 - epsilon\n",
    "\n",
    "    ST_up = S_up * np.exp((r - 0.5 * sigma ** 2) * T + sigma * np.sqrt(T) * Z)\n",
    "    ST_down = S_down * np.exp((r - 0.5 * sigma ** 2) * T + sigma * np.sqrt(T) * Z)\n",
    "\n",
    "    payoffs_up = ST_up - K\n",
    "    payoffs_down = ST_down - K\n",
    "\n",
    "    V_up = np.exp(-r * T) * np.mean(payoffs_up)\n",
    "    V_down = np.exp(-r * T) * np.mean(payoffs_down)\n",
    "\n",
    "    Delta = (V_up - V_down) / (2 * epsilon)\n",
    "    Gamma = (V_up - 2 * V0 + V_down) / (epsilon ** 2)\n",
    "\n",
    "    T_shorter = T - delta_T\n",
    "    ST_shorter = S0 * np.exp((r - 0.5 * sigma ** 2) * T_shorter + sigma * np.sqrt(T_shorter) * Z)\n",
    "    payoffs_shorter = ST_shorter - K\n",
    "    V_shorter = np.exp(-r * T_shorter) * np.mean(payoffs_shorter)\n",
    "\n",
    "    Theta = (V_shorter - V0) / (delta_T )\n",
    "\n",
    "    return V0, Delta, Gamma, Theta\n",
    "\n",
    "forward_price, delta, gamma, theta = monte_carlo_forward(S0, K, T, r, sigma, N)\n",
    "print(f\"Forward Contract Price: {forward_price:.9f}\")\n",
    "print(f\"Delta: {delta:.9f}\")\n",
    "print(f\"Gamma: {gamma:.9f}\")\n",
    "print(f\"Theta: {theta:.9f}\")\n"
   ]
  },
  {
   "cell_type": "markdown",
   "id": "c694969f-df77-4334-b578-22f6a51aca2b",
   "metadata": {},
   "source": [
    "# Comparing Estimated Values to Analytical Values"
   ]
  },
  {
   "cell_type": "markdown",
   "id": "6d817a51-e647-4909-9844-da7080c2e077",
   "metadata": {},
   "source": [
    "### Analytical Forward Price and Greeks"
   ]
  },
  {
   "cell_type": "code",
   "execution_count": 12,
   "id": "1e9ea35b-77c4-4dba-8877-fd19f36c7877",
   "metadata": {},
   "outputs": [
    {
     "name": "stdout",
     "output_type": "stream",
     "text": [
      "Price at inception: 5.127109637602416\n",
      "Delta at inception: 1.0512710963760241\n",
      "Gamma at inception: 0\n",
      "Theta at inception: -4.75614712250357\n"
     ]
    }
   ],
   "source": [
    "def analytical_forward(S0, T, K, r):\n",
    "    forward_price = S0 * np.exp(r * T)\n",
    "    \n",
    "    price = forward_price - K\n",
    "    \n",
    "    delta = np.exp(r * T)\n",
    "    \n",
    "    gamma = 0\n",
    "    \n",
    "    theta = -K * r * np.exp(-r * T) \n",
    "    \n",
    "    return price, delta, gamma, theta\n",
    "\n",
    "price, delta, gamma, theta = analytical_forward(S0, T, K, r)\n",
    "\n",
    "print(\"Price at inception:\", price)\n",
    "print(\"Delta at inception:\", delta)\n",
    "print(\"Gamma at inception:\", gamma)\n",
    "print(\"Theta at inception:\", theta)"
   ]
  },
  {
   "cell_type": "markdown",
   "id": "118d1b19-17aa-4068-80d8-9ac51c62d3ea",
   "metadata": {},
   "source": [
    "## Comparison of Forward Contract Pricing Methods\n",
    "\n",
    "### Forward Contract Price at Inception\n",
    "- **Crank-Nicolson**: `4.879057548515569`\n",
    "- **Monte Carlo**: `4.875828315`\n",
    "- **Analytical**: `5.127109637602416`\n",
    "\n",
    "The Crank-Nicolson and Monte Carlo methods produce similar results that are reasonably close to the analytical solution, although both slightly underestimate the true price.\n",
    "\n",
    "### Delta \n",
    "- **Crank-Nicolson**: `0.99999999950288`\n",
    "- **Monte Carlo**: `0.999987708`\n",
    "- **Analytical**: `1.0512710963760241`\n",
    "\n",
    "Both numerical methods provide estimates of Delta that are very close to each other but are slightly lower than the analytical value.\n",
    "\n",
    "### Gamma \n",
    "- **Crank-Nicolson**: `-4.687608326195105e-10`\n",
    "- **Monte Carlo**: `0.000000888`\n",
    "- **Analytical**: `0`\n",
    "\n",
    "The analytical value for Gamma is zero because the forward contract's intrinsic value is a linear function of the stock price. The Crank-Nicolson result is effectively zero but shows a slight negative value due to numerical precision. The Monte Carlo method results in a small positive value, likely due to sampling noise.\n",
    "\n",
    "### Theta\n",
    "- **Crank-Nicolson**: `-4.75614712250357`\n",
    "- **Monte Carlo**: `-4.758080909`\n",
    "- **Analytical**: `-4.75614712250357`\n",
    "\n",
    "All three methods are consistent in their estimates of Theta, with values close to each other."
   ]
  },
  {
   "cell_type": "code",
   "execution_count": null,
   "id": "eabaa3a6-060c-4047-aa50-9c13458249fc",
   "metadata": {},
   "outputs": [],
   "source": []
  }
 ],
 "metadata": {
  "kernelspec": {
   "display_name": "Python 3 (ipykernel)",
   "language": "python",
   "name": "python3"
  },
  "language_info": {
   "codemirror_mode": {
    "name": "ipython",
    "version": 3
   },
   "file_extension": ".py",
   "mimetype": "text/x-python",
   "name": "python",
   "nbconvert_exporter": "python",
   "pygments_lexer": "ipython3",
   "version": "3.10.9"
  }
 },
 "nbformat": 4,
 "nbformat_minor": 5
}
